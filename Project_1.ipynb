{
 "cells": [
  {
   "cell_type": "markdown",
   "metadata": {},
   "source": [
    "## Profitable App Profiles for the App Store and Google Play Markets\n",
    "\n",
    "Revenue for any given app is mostly influenced by the number of users who use our app — the more users that see and engage with the ads, the better. Our goal for this project is to analyze data to help our developers understand what type of apps are likely to attract more users.\n",
    "This is going to be a notebook/markdown for the first project in python mostly using basic data structures such as Lists, Dictionaries, Tuples and Functions.\n"
   ]
  },
  {
   "cell_type": "markdown",
   "metadata": {},
   "source": [
    "Lets read the data and begin the adventure..\n",
    "\n",
    "\n",
    "** Reading Data **"
   ]
  },
  {
   "cell_type": "code",
   "execution_count": 126,
   "metadata": {},
   "outputs": [],
   "source": [
    "def open_csv(file_name=\"AppleStore\",file_path='C:/Users/cccherukuri/AnacondaProjects/Python101',enco=\"utf8\",headerflag=True):\n",
    "        file_open=open(file_path + \"/\"+ file_name+\".csv\",encoding=\"utf8\")\n",
    "        from csv import reader\n",
    "        file_read=reader(file_open)\n",
    "        file_list=list(file_read)\n",
    "        if(headerflag==True):\n",
    "            return(file_list[0],file_list[1:])\n",
    "        else:\n",
    "            return(file_list)\n",
    "\n",
    "app_store_header,app_store_data = open_csv(\"AppleStore\",file_path='C:/Users/cccherukuri/AnacondaProjects/Python101')\n",
    "play_store_header,play_store_data = open_csv(\"googleplaystore\",file_path='C:/Users/cccherukuri/AnacondaProjects/Python101')\n",
    "#play_store_data[0:2]"
   ]
  },
  {
   "cell_type": "markdown",
   "metadata": {},
   "source": [
    "** Basic Data Exploration **"
   ]
  },
  {
   "cell_type": "code",
   "execution_count": 127,
   "metadata": {},
   "outputs": [
    {
     "name": "stdout",
     "output_type": "stream",
     "text": [
      "['2', '281796108', 'Evernote - stay organized', '158578688', 'USD', '0', '161065', '26', '4', '3.5', '8.2.2', '4+', 'Productivity', '37', '5', '23', '1']\n",
      "\n",
      "\n",
      "Number of rows: 7197\n",
      "Number of columns: 17\n",
      "['Coloring book moana', 'ART_AND_DESIGN', '3.9', '967', '14M', '500,000+', 'Free', '0', 'Everyone', 'Art & Design;Pretend Play', 'January 15, 2018', '2.0.0', '4.0.3 and up']\n",
      "\n",
      "\n",
      "Number of rows: 10841\n",
      "Number of columns: 13\n"
     ]
    }
   ],
   "source": [
    "def explore_data(dataset, start, end, rows_and_columns=False):\n",
    "    dataset_slice = dataset[start:end]    \n",
    "    for row in dataset_slice:\n",
    "        print(row)\n",
    "        print('\\n') # adds a new (empty) line after each row\n",
    "\n",
    "    if rows_and_columns:\n",
    "        print('Number of rows:', len(dataset))\n",
    "        print('Number of columns:', len(dataset[0]))\n",
    "explore_data(app_store_data,1,2,rows_and_columns=True)\n",
    "explore_data(play_store_data,1,2,rows_and_columns=True)"
   ]
  },
  {
   "cell_type": "markdown",
   "metadata": {},
   "source": [
    "Columns in App Store Data"
   ]
  },
  {
   "cell_type": "code",
   "execution_count": 128,
   "metadata": {},
   "outputs": [
    {
     "data": {
      "text/plain": [
       "['',\n",
       " 'id',\n",
       " 'track_name',\n",
       " 'size_bytes',\n",
       " 'currency',\n",
       " 'price',\n",
       " 'rating_count_tot',\n",
       " 'rating_count_ver',\n",
       " 'user_rating',\n",
       " 'user_rating_ver',\n",
       " 'ver',\n",
       " 'cont_rating',\n",
       " 'prime_genre',\n",
       " 'sup_devices.num',\n",
       " 'ipadSc_urls.num',\n",
       " 'lang.num',\n",
       " 'vpp_lic']"
      ]
     },
     "execution_count": 128,
     "metadata": {},
     "output_type": "execute_result"
    }
   ],
   "source": [
    "#explore_data(app_store_header,1,17,False)\n",
    "app_store_header\n"
   ]
  },
  {
   "cell_type": "markdown",
   "metadata": {},
   "source": [
    "Colcumns in Play Store Data\n"
   ]
  },
  {
   "cell_type": "code",
   "execution_count": 129,
   "metadata": {},
   "outputs": [
    {
     "data": {
      "text/plain": [
       "['App',\n",
       " 'Category',\n",
       " 'Rating',\n",
       " 'Reviews',\n",
       " 'Size',\n",
       " 'Installs',\n",
       " 'Type',\n",
       " 'Price',\n",
       " 'Content Rating',\n",
       " 'Genres',\n",
       " 'Last Updated',\n",
       " 'Current Ver',\n",
       " 'Android Ver']"
      ]
     },
     "execution_count": 129,
     "metadata": {},
     "output_type": "execute_result"
    }
   ],
   "source": [
    "#explore_data(play_store_header,1,13,False)\n",
    "play_store_header"
   ]
  },
  {
   "cell_type": "markdown",
   "metadata": {},
   "source": [
    "For more information about each column, please refer to the below link\n",
    "\n",
    "[App Store](https://www.kaggle.com/ramamet4/app-store-apple-data-set-10k-apps/home)\n",
    "\n",
    "[Play Store](https://www.kaggle.com/lava18/google-play-store-apps/home)"
   ]
  },
  {
   "cell_type": "markdown",
   "metadata": {},
   "source": [
    "Let's now work on data cleaning. As per one of group discussions there may or may not be an issue with row $10472$ in play store data. Row number and columns to look out could be different based on how your data is read (i.e., including/excluding header)"
   ]
  },
  {
   "cell_type": "code",
   "execution_count": 130,
   "metadata": {},
   "outputs": [
    {
     "name": "stdout",
     "output_type": "stream",
     "text": [
      "['Life Made WI-Fi Touchscreen Photo Frame', '1.9', '19', '3.0M', '1,000+', 'Free', '0', 'Everyone', '', 'February 11, 2018', '1.0.19', '4.0 and up']\n",
      "\n",
      "\n",
      "['osmino Wi-Fi: free WiFi', 'TOOLS', '4.2', '134203', '4.1M', '10,000,000+', 'Free', '0', 'Everyone', 'Tools', 'August 7, 2018', '6.06.14', '4.4 and up']\n",
      "\n",
      "\n"
     ]
    }
   ],
   "source": [
    "explore_data(play_store_data,10472,10474)"
   ]
  },
  {
   "cell_type": "code",
   "execution_count": 131,
   "metadata": {},
   "outputs": [
    {
     "name": "stdout",
     "output_type": "stream",
     "text": [
      "['Xposed Wi-Fi-Pwd', 'PERSONALIZATION', '3.5', '1042', '404k', '100,000+', 'Free', '0', 'Everyone', 'Personalization', 'August 5, 2014', '3.0.0', '4.0.3 and up']\n",
      "\n",
      "\n",
      "['osmino Wi-Fi: free WiFi', 'TOOLS', '4.2', '134203', '4.1M', '10,000,000+', 'Free', '0', 'Everyone', 'Tools', 'August 7, 2018', '6.06.14', '4.4 and up']\n",
      "\n",
      "\n"
     ]
    }
   ],
   "source": [
    "# Use with caution\n",
    "del play_store_data[10472]\n",
    "explore_data(play_store_data,10471,10473)"
   ]
  },
  {
   "cell_type": "code",
   "execution_count": 132,
   "metadata": {},
   "outputs": [
    {
     "data": {
      "text/plain": [
       "['SNo',\n",
       " 'id',\n",
       " 'track_name',\n",
       " 'size_bytes',\n",
       " 'currency',\n",
       " 'price',\n",
       " 'rating_count_tot',\n",
       " 'rating_count_ver',\n",
       " 'user_rating',\n",
       " 'user_rating_ver',\n",
       " 'ver',\n",
       " 'cont_rating',\n",
       " 'prime_genre',\n",
       " 'sup_devices.num',\n",
       " 'ipadSc_urls.num',\n",
       " 'lang.num',\n",
       " 'vpp_lic']"
      ]
     },
     "execution_count": 132,
     "metadata": {},
     "output_type": "execute_result"
    }
   ],
   "source": [
    "# Fixing the App store Header with blank column\n",
    "app_store_header[0]=\"sno\"\n",
    "# Just Preview header after fixing\n",
    "app_store_header\n"
   ]
  },
  {
   "cell_type": "markdown",
   "metadata": {},
   "source": [
    "There seems to be some duplicate rows as per discussion in the group. Lets fix that now starting with android (play store data)\n",
    "\n",
    "** Google Play Store (Android) **"
   ]
  },
  {
   "cell_type": "code",
   "execution_count": 133,
   "metadata": {},
   "outputs": [
    {
     "name": "stdout",
     "output_type": "stream",
     "text": [
      "Numer of duplicate apps 1181\n",
      "\n",
      "\n",
      "Some of duplicate apps ['Quick PDF Scanner + OCR FREE', 'Box', 'Google My Business', 'ZOOM Cloud Meetings', 'join.me - Simple Meetings', 'Box', 'Zenefits', 'Google Ads', 'Google My Business', 'Slack', 'FreshBooks Classic', 'Insightly CRM', 'QuickBooks Accounting: Invoicing & Expenses', 'HipChat - Chat Built for Teams', 'Xero Accounting Software']\n",
      "There seems to be no duplicates!Isnt that a good news!!\n"
     ]
    }
   ],
   "source": [
    "def find_dup_apps(dataset):\n",
    "    unique_apps=[]\n",
    "    duplicate_apps=[]\n",
    "    for apps in dataset:\n",
    "        app_name=apps[0]\n",
    "        if app_name in unique_apps:\n",
    "            duplicate_apps.append(app_name)\n",
    "        else:\n",
    "            unique_apps.append(app_name)\n",
    "    print('Numer of duplicate apps',len(duplicate_apps))\n",
    "    print(\"\\n\")\n",
    "    if len(duplicate_apps)>0:\n",
    "        print('Some of duplicate apps',duplicate_apps[:15])\n",
    "    print('There seems to be no duplicates!Isnt that a good news!!')\n",
    "    return unique_apps, duplicate_apps\n",
    "\n",
    "unq_ps_apps,dup_ps_apps=find_dup_apps(play_store_data)\n",
    "    \n",
    "    "
   ]
  },
  {
   "cell_type": "markdown",
   "metadata": {},
   "source": [
    "** App store (iOS) **\n",
    "\n",
    "Similarly, lets find how many such duplicates are there for App_store (ios)"
   ]
  },
  {
   "cell_type": "code",
   "execution_count": 134,
   "metadata": {},
   "outputs": [
    {
     "name": "stdout",
     "output_type": "stream",
     "text": [
      "Numer of duplicate apps 0\n",
      "\n",
      "\n",
      "There seems to be no duplicates!Isnt that a good news!!\n"
     ]
    }
   ],
   "source": [
    "unq_ios_apps,dup_ios_apps=find_dup_apps(app_store_data)"
   ]
  },
  {
   "cell_type": "markdown",
   "metadata": {},
   "source": [
    "If there are duplicates, should we just randomly delete them? For example, if we look at `Instagram` the entries are duplicate, \n",
    "but the # of ratings is different. So, may be we should delete the row with low # of ratings and keep the rest!\n",
    "Lets see if we can come up with any other criterion instead of just random deletion..\n"
   ]
  },
  {
   "cell_type": "code",
   "execution_count": 135,
   "metadata": {},
   "outputs": [
    {
     "name": "stdout",
     "output_type": "stream",
     "text": [
      "['Instagram', 'SOCIAL', '4.5', '66577313', 'Varies with device', '1,000,000,000+', 'Free', '0', 'Teen', 'Social', 'July 31, 2018', 'Varies with device', 'Varies with device']\n",
      "['Instagram', 'SOCIAL', '4.5', '66577446', 'Varies with device', '1,000,000,000+', 'Free', '0', 'Teen', 'Social', 'July 31, 2018', 'Varies with device', 'Varies with device']\n",
      "['Instagram', 'SOCIAL', '4.5', '66577313', 'Varies with device', '1,000,000,000+', 'Free', '0', 'Teen', 'Social', 'July 31, 2018', 'Varies with device', 'Varies with device']\n",
      "['Instagram', 'SOCIAL', '4.5', '66509917', 'Varies with device', '1,000,000,000+', 'Free', '0', 'Teen', 'Social', 'July 31, 2018', 'Varies with device', 'Varies with device']\n"
     ]
    }
   ],
   "source": [
    "for app in play_store_data:\n",
    "    name=app[0]\n",
    "    if name=='Instagram':\n",
    "        print(app)"
   ]
  },
  {
   "cell_type": "markdown",
   "metadata": {},
   "source": [
    "** Remove Duplicates if any **\n",
    "\n",
    "We will use dictionaries to help us with removing duplicate entries. Remember we have a function that returns duplicate and unique apps.\n",
    "Below we are going to remove duplicate apps but with low total reviews. For this we follow this logic:\n",
    "\n",
    "- Create empty dictionary `reviews_max`  \n",
    "- Loop through play store data to add max(n_reviews). Careful about if condition logic here..  \n",
    "- Use this `reviews_max` to compare the reviews while looping throuh our data to remove duplicates. (some what similar to vlookup inside if!)  \n",
    "- Put this clean rows into `android_clean`"
   ]
  },
  {
   "cell_type": "code",
   "execution_count": 141,
   "metadata": {},
   "outputs": [
    {
     "name": "stdout",
     "output_type": "stream",
     "text": [
      "Expected length: 9659\n",
      "Actual length: 9659\n"
     ]
    }
   ],
   "source": [
    "#len(play_store_data)\n",
    "reviews_max={}\n",
    "for app in play_store_data:\n",
    "    name=app[0]\n",
    "    n_reviews=float(app[3])\n",
    "    \n",
    "    if name in reviews_max and reviews_max[name]<n_reviews:\n",
    "        reviews_max[name]=n_reviews\n",
    "    \n",
    "    elif name not in reviews_max:\n",
    "        reviews_max[name]=n_reviews\n",
    "\n",
    "\n",
    "print('Expected length:', len(play_store_data) - len(dup_ps_apps))\n",
    "print('Actual length:', len(reviews_max))   \n"
   ]
  },
  {
   "cell_type": "code",
   "execution_count": 154,
   "metadata": {},
   "outputs": [
    {
     "name": "stdout",
     "output_type": "stream",
     "text": [
      "Length of clean android dataset: 9659\n"
     ]
    }
   ],
   "source": [
    "android_clean=[]\n",
    "already_added=[]\n",
    "\n",
    "for app in play_store_data:\n",
    "    name=app[0]\n",
    "    n_reviews=float(app[3])\n",
    "    if (n_reviews==reviews_max[name]) and (name not in already_added):\n",
    "        android_clean.append(app)\n",
    "        already_added.append(name)\n",
    "#print(android_clean[:10])\n",
    "print(\"Length of clean android dataset:\", len(android_clean))"
   ]
  },
  {
   "cell_type": "markdown",
   "metadata": {},
   "source": [
    "** Removing Non-English Apps **\n",
    "\n",
    "Use `ord` built-in function to find out ASCII characater range falling outside 0-127"
   ]
  },
  {
   "cell_type": "code",
   "execution_count": 167,
   "metadata": {},
   "outputs": [
    {
     "data": {
      "text/plain": [
       "False"
      ]
     },
     "execution_count": 167,
     "metadata": {},
     "output_type": "execute_result"
    }
   ],
   "source": [
    "def find_non_eng_chars(input_string=\"Instagram\"):\n",
    "        for letter in input_string:\n",
    "            if ord(letter)>127:\n",
    "                return(False)\n",
    "        return(True)\n",
    "\n",
    "find_non_eng_chars('Instachat 😜')\n"
   ]
  },
  {
   "cell_type": "markdown",
   "metadata": {},
   "source": [
    "Lets modify above function a bit to find if a string could be called non-english if there are more than 3 such non-english characters\n"
   ]
  },
  {
   "cell_type": "code",
   "execution_count": 173,
   "metadata": {},
   "outputs": [
    {
     "data": {
      "text/plain": [
       "True"
      ]
     },
     "execution_count": 173,
     "metadata": {},
     "output_type": "execute_result"
    }
   ],
   "source": [
    "def find_non_eng_chars(input_string=\"Instagram\"):\n",
    "        counter=0\n",
    "        for letter in input_string:\n",
    "            if ord(letter)>127:\n",
    "                counter+=1            \n",
    "        if counter>3:\n",
    "            return(True)\n",
    "        return(False)\n",
    "\n",
    "find_non_eng_chars('爱奇艺PPS -《欢乐颂2》电视剧热播')\n"
   ]
  },
  {
   "cell_type": "code",
   "execution_count": 185,
   "metadata": {},
   "outputs": [
    {
     "name": "stdout",
     "output_type": "stream",
     "text": [
      "Remaining records after removing non-english strings: 7197\n"
     ]
    }
   ],
   "source": [
    "# App store data\n",
    "new_clean=[]\n",
    "for app in app_store_data:\n",
    "    name=app[0]\n",
    "    if not(find_non_eng_chars(name)):\n",
    "        new_clean.append(app)\n",
    "print(\"Remaining records after removing non-english strings:\",len(new_clean))\n",
    "# Appstore data seems to be clean compared to Play store (android)..        "
   ]
  },
  {
   "cell_type": "code",
   "execution_count": 186,
   "metadata": {},
   "outputs": [
    {
     "name": "stdout",
     "output_type": "stream",
     "text": [
      "Remaining records after removing non-english strings: 9614\n"
     ]
    }
   ],
   "source": [
    "# Play Store Data\n",
    "new_clean=[]\n",
    "for app in android_clean:\n",
    "    name=app[0]\n",
    "    if not(find_non_eng_chars(name)):\n",
    "        new_clean.append(app)\n",
    "print(\"Remaining records after removing non-english strings:\",len(new_clean))"
   ]
  },
  {
   "cell_type": "markdown",
   "metadata": {},
   "source": [
    "**Isolate Free Apps**\n",
    "\n",
    "Lets quickly isolate free apps from both the data sets. Note that name of columns for price is different in the datasets!!"
   ]
  },
  {
   "cell_type": "code",
   "execution_count": 200,
   "metadata": {},
   "outputs": [
    {
     "name": "stdout",
     "output_type": "stream",
     "text": [
      "Total Android free apps are:  8904\n",
      "Total Android free apps are:  4056\n"
     ]
    }
   ],
   "source": [
    "free_android_apps=[]\n",
    "for app in android_clean:\n",
    "    if app[play_store_header.index(\"Type\")]=='Free':\n",
    "        free_android_apps.append(app)\n",
    "print('Total Android free apps are: ',len(free_android_apps))\n",
    "\n",
    "free_ios_apps=[]\n",
    "for app in app_store_data:\n",
    "    if app[app_store_header.index(\"price\")]=='0':\n",
    "        free_ios_apps.append(app)\n",
    "print('Total Android free apps are: ',len(free_ios_apps))\n"
   ]
  },
  {
   "cell_type": "markdown",
   "metadata": {},
   "source": [
    "** Most Common Apps by Genre **\n",
    "\n",
    "We may have to use rating_count_tot in both data sets to identify the frequency by Genre.\n",
    "Alternatively we could also use ''"
   ]
  },
  {
   "cell_type": "code",
   "execution_count": 250,
   "metadata": {},
   "outputs": [
    {
     "data": {
      "text/plain": [
       "[('Tools', 828),\n",
       " ('Entertainment', 561),\n",
       " ('Education', 510),\n",
       " ('Business', 420),\n",
       " ('Medical', 395),\n",
       " ('Personalization', 376),\n",
       " ('Productivity', 374),\n",
       " ('Lifestyle', 368),\n",
       " ('Finance', 345),\n",
       " ('Sports', 331),\n",
       " ('Communication', 315),\n",
       " ('Action', 299),\n",
       " ('Health & Fitness', 288),\n",
       " ('Photography', 281),\n",
       " ('News & Magazines', 254),\n",
       " ('Social', 239),\n",
       " ('Books & Reference', 222),\n",
       " ('Travel & Local', 218),\n",
       " ('Shopping', 202),\n",
       " ('Simulation', 193),\n",
       " ('Arcade', 184),\n",
       " ('Dating', 170),\n",
       " ('Casual', 165),\n",
       " ('Video Players & Editors', 162),\n",
       " ('Maps & Navigation', 131),\n",
       " ('Puzzle', 119),\n",
       " ('Food & Drink', 112),\n",
       " ('Role Playing', 105),\n",
       " ('Strategy', 95),\n",
       " ('Racing', 91),\n",
       " ('Auto & Vehicles', 85),\n",
       " ('Libraries & Demo', 84),\n",
       " ('Weather', 79),\n",
       " ('House & Home', 73),\n",
       " ('Adventure', 73),\n",
       " ('Events', 64),\n",
       " ('Art & Design', 57),\n",
       " ('Comics', 55),\n",
       " ('Beauty', 53),\n",
       " ('Card', 47),\n",
       " ('Parenting', 46),\n",
       " ('Board', 42),\n",
       " ('Casino', 39),\n",
       " ('Trivia', 38),\n",
       " ('Educational;Education', 38),\n",
       " ('Educational', 37),\n",
       " ('Education;Education', 36),\n",
       " ('Casual;Pretend Play', 25),\n",
       " ('Word', 23),\n",
       " ('Music', 19),\n",
       " ('Education;Pretend Play', 17),\n",
       " ('Puzzle;Brain Games', 17),\n",
       " ('Racing;Action & Adventure', 16),\n",
       " ('Entertainment;Music & Video', 15),\n",
       " ('Arcade;Action & Adventure', 14),\n",
       " ('Board;Brain Games', 14),\n",
       " ('Educational;Pretend Play', 13),\n",
       " ('Casual;Action & Adventure', 13),\n",
       " ('Action;Action & Adventure', 12),\n",
       " ('Casual;Brain Games', 12),\n",
       " ('Entertainment;Brain Games', 7),\n",
       " ('Simulation;Action & Adventure', 7),\n",
       " ('Parenting;Education', 7),\n",
       " ('Art & Design;Creativity', 6),\n",
       " ('Education;Creativity', 6),\n",
       " ('Educational;Brain Games', 6),\n",
       " ('Casual;Creativity', 6),\n",
       " ('Parenting;Music & Video', 6),\n",
       " ('Educational;Creativity', 5),\n",
       " ('Adventure;Action & Adventure', 5),\n",
       " ('Education;Brain Games', 4),\n",
       " ('Role Playing;Action & Adventure', 4),\n",
       " ('Sports;Action & Adventure', 4),\n",
       " ('Education;Action & Adventure', 4),\n",
       " ('Role Playing;Pretend Play', 4),\n",
       " ('Entertainment;Creativity', 3),\n",
       " ('Simulation;Education', 3),\n",
       " ('Casual;Education', 3),\n",
       " ('Music;Music & Video', 3),\n",
       " ('Simulation;Pretend Play', 3),\n",
       " ('Educational;Action & Adventure', 3),\n",
       " ('Entertainment;Action & Adventure', 3),\n",
       " ('Puzzle;Action & Adventure', 3),\n",
       " ('Board;Action & Adventure', 3),\n",
       " ('Education;Music & Video', 3),\n",
       " ('Puzzle;Creativity', 2),\n",
       " ('Strategy;Action & Adventure', 2),\n",
       " ('Entertainment;Pretend Play', 2),\n",
       " ('Card;Action & Adventure', 2),\n",
       " ('Video Players & Editors;Music & Video', 2),\n",
       " ('Books & Reference;Education', 2),\n",
       " ('Comics;Creativity', 1),\n",
       " ('Lifestyle;Pretend Play', 1),\n",
       " ('Art & Design;Pretend Play', 1),\n",
       " ('Entertainment;Education', 1),\n",
       " ('Arcade;Pretend Play', 1),\n",
       " ('Art & Design;Action & Adventure', 1),\n",
       " ('Music & Audio;Music & Video', 1),\n",
       " ('Health & Fitness;Education', 1),\n",
       " ('Board;Pretend Play', 1),\n",
       " ('Casual;Music & Video', 1),\n",
       " ('Travel & Local;Action & Adventure', 1),\n",
       " ('Tools;Education', 1),\n",
       " ('Parenting;Brain Games', 1),\n",
       " ('Video Players & Editors;Creativity', 1),\n",
       " ('Health & Fitness;Action & Adventure', 1),\n",
       " ('Adventure;Brain Games', 1),\n",
       " ('Trivia;Education', 1),\n",
       " ('Lifestyle;Education', 1),\n",
       " ('Books & Reference;Creativity', 1),\n",
       " ('Puzzle;Education', 1),\n",
       " ('Adventure;Education', 1),\n",
       " ('Role Playing;Education', 1),\n",
       " ('Role Playing;Brain Games', 1),\n",
       " ('Strategy;Education', 1),\n",
       " ('Racing;Pretend Play', 1),\n",
       " ('Communication;Creativity', 1),\n",
       " ('Strategy;Creativity', 1)]"
      ]
     },
     "execution_count": 250,
     "metadata": {},
     "output_type": "execute_result"
    }
   ],
   "source": [
    "def freq_by_col(dataset,col_name,header_data):\n",
    "    freq={}\n",
    "    for app in dataset:\n",
    "        name=app[header_data.index(col_name)]\n",
    "\n",
    "        if name in freq:\n",
    "            freq[name]+=1\n",
    "\n",
    "        else:\n",
    "            freq[name]=1\n",
    "    return(freq)\n",
    "# Print android freq by Genre\n",
    "import operator\n",
    "sorted(freq_by_col(android_clean,\"Genres\",header_data=play_store_header).items(),key=operator.itemgetter(1),reverse=True)"
   ]
  },
  {
   "cell_type": "code",
   "execution_count": 252,
   "metadata": {},
   "outputs": [
    {
     "data": {
      "text/plain": [
       "[('Games', 3862),\n",
       " ('Entertainment', 535),\n",
       " ('Education', 453),\n",
       " ('Photo & Video', 349),\n",
       " ('Utilities', 248),\n",
       " ('Health & Fitness', 180),\n",
       " ('Productivity', 178),\n",
       " ('Social Networking', 167),\n",
       " ('Lifestyle', 144),\n",
       " ('Music', 138),\n",
       " ('Shopping', 122),\n",
       " ('Sports', 114),\n",
       " ('Book', 112),\n",
       " ('Finance', 104),\n",
       " ('Travel', 81),\n",
       " ('News', 75),\n",
       " ('Weather', 72),\n",
       " ('Reference', 64),\n",
       " ('Food & Drink', 63),\n",
       " ('Business', 57),\n",
       " ('Navigation', 46),\n",
       " ('Medical', 23),\n",
       " ('Catalogs', 10)]"
      ]
     },
     "execution_count": 252,
     "metadata": {},
     "output_type": "execute_result"
    }
   ],
   "source": [
    "# Print iOS freq by Genre\n",
    "import operator\n",
    "sorted(freq_by_col(app_store_data,\"prime_genre\",header_data=app_store_header).items(),key=operator.itemgetter(1),reverse=True)\n"
   ]
  }
 ],
 "metadata": {
  "kernelspec": {
   "display_name": "Python 3",
   "language": "python",
   "name": "python3"
  },
  "language_info": {
   "codemirror_mode": {
    "name": "ipython",
    "version": 3
   },
   "file_extension": ".py",
   "mimetype": "text/x-python",
   "name": "python",
   "nbconvert_exporter": "python",
   "pygments_lexer": "ipython3",
   "version": "3.6.1"
  }
 },
 "nbformat": 4,
 "nbformat_minor": 2
}
